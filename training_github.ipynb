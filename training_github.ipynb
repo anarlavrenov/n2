{
  "nbformat": 4,
  "nbformat_minor": 0,
  "metadata": {
    "colab": {
      "provenance": [],
      "machine_shape": "hm",
      "gpuType": "L4",
      "authorship_tag": "ABX9TyPa84o0tnW5eBq/OsbWoALs",
      "include_colab_link": true
    },
    "kernelspec": {
      "name": "python3",
      "display_name": "Python 3"
    },
    "language_info": {
      "name": "python"
    },
    "accelerator": "GPU"
  },
  "cells": [
    {
      "cell_type": "markdown",
      "metadata": {
        "id": "view-in-github",
        "colab_type": "text"
      },
      "source": [
        "<a href=\"https://colab.research.google.com/github/anarlavrenov/n2/blob/main/training_github.ipynb\" target=\"_parent\"><img src=\"https://colab.research.google.com/assets/colab-badge.svg\" alt=\"Open In Colab\"/></a>"
      ]
    },
    {
      "cell_type": "code",
      "execution_count": null,
      "metadata": {
        "id": "gtELfr1mGVU5",
        "colab": {
          "base_uri": "https://localhost:8080/"
        },
        "outputId": "e86bb5da-e83f-4ea8-d958-b9cb171a33f5"
      },
      "outputs": [
        {
          "output_type": "stream",
          "name": "stdout",
          "text": [
            "Mounted at /content/drive\n"
          ]
        }
      ],
      "source": [
        "from google.colab import drive\n",
        "drive.mount(\"/content/drive\", force_remount=True)\n",
        "\n",
        "import torch\n",
        "\n",
        "import numpy as np\n",
        "import pandas as pd\n",
        "\n",
        "device = \"cuda\" if torch.cuda.is_available() else \"cpu\""
      ]
    },
    {
      "cell_type": "code",
      "source": [
        "# Загрузка данных\n",
        "import torchaudio\n",
        "\n",
        "dataset = torchaudio.datasets.LIBRISPEECH(\".\", url=\"train-clean-100\", download=True)\n",
        "\n",
        "# Фоновый шум\n",
        "SAMPLE_NOISE = torchaudio.utils.download_asset(\"tutorial-assets/Lab41-SRI-VOiCES-rm1-babb-mc01-stu-clo-8000hz.wav\")\n",
        "# Эффект исходной речи, но в другом пространстве\n",
        "SAMPLE_RIR = torchaudio.utils.download_asset(\"tutorial-assets/Lab41-SRI-VOiCES-rm1-impulse-mc01-stu-clo-8000hz.wav\")\n",
        "noise, nsr = torchaudio.load(SAMPLE_NOISE)\n",
        "rir_raw, rsr = torchaudio.load(SAMPLE_RIR)"
      ],
      "metadata": {
        "id": "7VhX01i6Gc9r",
        "colab": {
          "base_uri": "https://localhost:8080/"
        },
        "outputId": "3ce575f3-cccb-434d-cc1f-65ec48b00e67"
      },
      "execution_count": null,
      "outputs": [
        {
          "output_type": "stream",
          "name": "stderr",
          "text": [
            "100%|██████████| 5.95G/5.95G [07:40<00:00, 13.9MB/s]\n",
            "100%|██████████| 78.2k/78.2k [00:00<00:00, 82.4MB/s]\n",
            "100%|██████████| 31.3k/31.3k [00:00<00:00, 38.6MB/s]\n"
          ]
        }
      ]
    },
    {
      "cell_type": "code",
      "source": [
        "# Разделение данных на трейн и валидацию\n",
        "train_size = int(len(dataset) * 0.9)\n",
        "valid_size = len(dataset) - train_size\n",
        "\n",
        "train_dataset, valid_dataset = torch.utils.data.random_split(\n",
        "    dataset, [train_size, valid_size]\n",
        ")"
      ],
      "metadata": {
        "id": "cWjLy_tfQ6Vw"
      },
      "execution_count": null,
      "outputs": []
    },
    {
      "cell_type": "code",
      "source": [
        "# Создание словаря из символов\n",
        "import torchtext; torchtext.disable_torchtext_deprecation_warning()\n",
        "from torchtext.vocab import vocab\n",
        "from collections import Counter\n",
        "\n",
        "chars = [x for x in \"abcdefghijklmnopqrstuvwxyz'?! \"]\n",
        "\n",
        "counter = Counter(chars) # Считает кол-во уникальных токенов в списке, возвращает словарь\n",
        "vocab = vocab(counter)\n",
        "unk_token = \"\"\n",
        "vocab.insert_token(unk_token, 0)\n",
        "vocab.set_default_index(vocab[unk_token])"
      ],
      "metadata": {
        "id": "euQ0emgmGhrc"
      },
      "execution_count": null,
      "outputs": []
    },
    {
      "cell_type": "code",
      "source": [
        "# Препроцессинг аудио\n",
        "win_length = 256\n",
        "hop_length = 160\n",
        "n_fft = 384\n",
        "\n",
        "# Шум добавляется не совсем качественно,\n",
        "# потому что длина шума, в среднем, меньше\n",
        "# длины речи. Из-за этого шум нужно\n",
        "# интерполировать, что меняет его природу\n",
        "def add_noise(waveform, noise=noise):\n",
        "  noise = torchaudio.functional.resample(noise, orig_freq=nsr, new_freq=16000)\n",
        "\n",
        "  # Урезание/продление шума до размера оригинальной waveform\n",
        "  if noise.shape[1] > waveform.shape[1]:\n",
        "    noise = noise[:, :waveform.shape[1]]\n",
        "  else:\n",
        "    noise = noise.unsqueeze(0)\n",
        "    noise = torch.nn.functional.interpolate(noise, size=(waveform.shape[1]), mode=\"linear\")\n",
        "    noise = noise.squeeze(0)\n",
        "\n",
        "  snr_dbs = torch.tensor([3])\n",
        "  # Добавление шума в оригинальную waveform\n",
        "  noisy_speech = torchaudio.functional.add_noise(waveform, noise, snr_dbs)\n",
        "\n",
        "  return noisy_speech\n",
        "\n",
        "\n",
        "def add_rir(waveform, rir_raw=rir_raw):\n",
        "  # Обрезание лишней части звука хлопка\n",
        "  rir = rir_raw[:, int(rsr * 1.01) : int(rsr * 1.3)]\n",
        "  # Нормализация\n",
        "  rir = rir / torch.linalg.vector_norm(rir, ord=2)\n",
        "  roomed_speech = torchaudio.functional.fftconvolve(waveform, rir)\n",
        "\n",
        "  return roomed_speech\n",
        "\n",
        "\n",
        "def transform_to_spectrogram(waveform):\n",
        "\n",
        "  # Получение waveform и sample_rate\n",
        "  waveform = torch.squeeze(waveform, dim=0)\n",
        "  waveform = waveform.to(torch.float32)\n",
        "  # Получение спектрограммы\n",
        "  transforms = torchaudio.transforms.Spectrogram(\n",
        "      win_length=win_length,\n",
        "      hop_length=hop_length,\n",
        "      n_fft=n_fft,\n",
        "      power=None\n",
        "  )\n",
        "  spectrogram = transforms(waveform)\n",
        "  # Перестановка на timeframes, n_mels\n",
        "  spectrogram = torch.transpose(spectrogram, 1, 0)\n",
        "\n",
        "  # Получение магнитуды\n",
        "  spectrogram = torch.abs(spectrogram)\n",
        "  spectrogram = torch.pow(spectrogram, 0.5)\n",
        "  # Нормализация\n",
        "  means = torch.mean(spectrogram, dim=1, keepdims=True)\n",
        "  stddevs = torch.std(spectrogram, dim=1, keepdims=True)\n",
        "  spectrogram = (spectrogram - means) / (stddevs + 1e-10)\n",
        "\n",
        "  return spectrogram\n",
        "\n",
        "\n",
        "def preprocess_audio(waveform, noise=noise, rir_raw=rir_raw):\n",
        "\n",
        "  # Получение шумовой копии исходной waveform\n",
        "  noisy_speech = add_noise(waveform, noise)\n",
        "  roomed_speech = add_rir(waveform, rir_raw)\n",
        "\n",
        "  # Получение спектрограмм для оригинальной\n",
        "  # записи, записи с добавленным шумом записи\n",
        "  # с эффектом звучания в пространстве\n",
        "  original_spectrogram = transform_to_spectrogram(waveform)\n",
        "  noisy_spectrogram = transform_to_spectrogram(noisy_speech)\n",
        "  roomed_spectrogram = transform_to_spectrogram(roomed_speech)\n",
        "\n",
        "  return (original_spectrogram, noisy_spectrogram, roomed_spectrogram)"
      ],
      "metadata": {
        "id": "wNysPjJeGi3a"
      },
      "execution_count": null,
      "outputs": []
    },
    {
      "cell_type": "code",
      "source": [
        "# Функция обработки батчей даталоадера\n",
        "def collate_fn(batch):\n",
        "\n",
        "  wf, sr, text, *_ = zip(*batch)\n",
        "\n",
        "  spectrograms = []\n",
        "  tokens = []\n",
        "\n",
        "  # Обработка спектрограммы\n",
        "  for i, (w, t) in enumerate(zip(wf, text)):\n",
        "    original_spectrogram, noisy_spectrogram, roomed_spectrogram = preprocess_audio(w, noise, rir_raw)\n",
        "    original_spectrogram = torch.nn.functional.pad(\n",
        "        original_spectrogram, (0, 0, 0, 2048-original_spectrogram.shape[0]), \"constant\", 0\n",
        "    ) # (слева, справа, сверху, снизу)\n",
        "\n",
        "    spectrograms.append(original_spectrogram)\n",
        "\n",
        "    # В даталоадер будет дублироваться каждая\n",
        "    # 10 запись с шумом и с эффектом звучания в пространстве\n",
        "    if i % 10 == 0:\n",
        "      noisy_spectrogram = torch.nn.functional.pad(\n",
        "        noisy_spectrogram, (0, 0, 0, 2048-noisy_spectrogram.shape[0]), \"constant\", 0\n",
        "    ) # (слева, справа, сверху, снизу)\n",
        "      spectrograms.append(noisy_spectrogram)\n",
        "\n",
        "      roomed_spectrogram = torch.nn.functional.pad(\n",
        "        roomed_spectrogram, (0, 0, 0, 2048-roomed_spectrogram.shape[0]), \"constant\", 0\n",
        "    ) # (слева, справа, сверху, снизу)\n",
        "      spectrograms.append(roomed_spectrogram)\n",
        "\n",
        "    # Обработка текста\n",
        "    t = t.lower()\n",
        "    t = [vocab[x] for x in t]\n",
        "    t = torch.nn.functional.pad(\n",
        "        torch.tensor(t), (0, 216-len(t)), \"constant\", 0\n",
        "    )\n",
        "    tokens.append(t)\n",
        "\n",
        "    # В даталоадер будет дублироваться\n",
        "    # каждая 10 и 15 запись с шумом и эффектом\n",
        "    # звучания в пространстве\n",
        "    if i % 10 == 0:\n",
        "      tokens.append(t)\n",
        "      tokens.append(t)\n",
        "\n",
        "  spectrograms = torch.stack(spectrograms, dim=0)\n",
        "  tokens = torch.stack(tokens, dim=0)\n",
        "\n",
        "  return spectrograms, tokens"
      ],
      "metadata": {
        "id": "m4n9D57DGkE1"
      },
      "execution_count": null,
      "outputs": []
    },
    {
      "cell_type": "code",
      "source": [
        "# Создание даталоадера torch\n",
        "train_loader = torch.utils.data.DataLoader(\n",
        "    train_dataset,\n",
        "    batch_size=60,\n",
        "    shuffle=False,\n",
        "    num_workers=2,\n",
        "    drop_last=True,\n",
        "    collate_fn=collate_fn\n",
        ")\n",
        "\n",
        "valid_loader = torch.utils.data.DataLoader(\n",
        "    valid_dataset,\n",
        "    batch_size=12,\n",
        "    shuffle=False,\n",
        "    num_workers=2,\n",
        "    drop_last=True,\n",
        "    collate_fn=collate_fn\n",
        ")"
      ],
      "metadata": {
        "id": "HfmKywlYGyoG"
      },
      "execution_count": null,
      "outputs": []
    },
    {
      "cell_type": "code",
      "source": [
        "src = next(iter(train_loader))[0].to(device)\n",
        "tgt = next(iter(train_loader))[1].to(device)\n",
        "\n",
        "val_src = next(iter(valid_loader))[0].to(device)\n",
        "val_tgt = next(iter(valid_loader))[1].to(device)\n",
        "\n",
        "print(src.shape, tgt.shape)"
      ],
      "metadata": {
        "colab": {
          "base_uri": "https://localhost:8080/"
        },
        "id": "UKteiPjYG1aA",
        "outputId": "874d1fb3-676b-4ab0-cb79-ebd434389d4e",
        "collapsed": true
      },
      "execution_count": null,
      "outputs": [
        {
          "output_type": "stream",
          "name": "stdout",
          "text": [
            "torch.Size([72, 2048, 193]) torch.Size([72, 216])\n"
          ]
        }
      ]
    },
    {
      "cell_type": "code",
      "source": [
        "# Модель\n",
        "class Model(torch.nn.Module):\n",
        "  def __init__(self, rnn_layers, rnn_units, output_dim):\n",
        "    super(Model, self).__init__()\n",
        "\n",
        "    self.conv1 = torch.nn.Conv2d(\n",
        "        in_channels=1,\n",
        "        out_channels=32,\n",
        "        kernel_size=(11, 41),\n",
        "        padding=(5, 20),\n",
        "        stride=(2, 2),\n",
        "        bias=False\n",
        "        )\n",
        "\n",
        "    self.conv2 = torch.nn.Conv2d(\n",
        "      in_channels=32,\n",
        "      out_channels=32,\n",
        "      kernel_size=(11, 21),\n",
        "      padding=(5, 10),\n",
        "      stride=(1, 2),\n",
        "      bias=False\n",
        "    )\n",
        "\n",
        "    self.conv3 = torch.nn.Conv2d(\n",
        "      in_channels=32,\n",
        "      out_channels=64,\n",
        "      kernel_size=(11, 21),\n",
        "      padding=(5, 10),\n",
        "      stride=(1, 2),\n",
        "      bias=False\n",
        "    )\n",
        "\n",
        "    self.lstm = torch.nn.LSTM(\n",
        "        input_size=64 * 25,\n",
        "        hidden_size=rnn_units,\n",
        "        num_layers=rnn_layers,\n",
        "        bidirectional=True,\n",
        "        dropout=0.5,\n",
        "        batch_first=True,\n",
        "        bias=True\n",
        "    )\n",
        "\n",
        "    self.fc1 = torch.nn.Linear(\n",
        "        in_features=rnn_units * 2,\n",
        "        out_features=rnn_units * 2\n",
        "    )\n",
        "\n",
        "    self.fc2 = torch.nn.Linear(\n",
        "        in_features=rnn_units * 2,\n",
        "        out_features=output_dim + 1\n",
        "    )\n",
        "\n",
        "    self.bn1 = torch.nn.BatchNorm2d(num_features=32)\n",
        "    self.bn2 = torch.nn.BatchNorm2d(num_features=32)\n",
        "    self.bn3 = torch.nn.BatchNorm2d(num_features=64)\n",
        "\n",
        "    self.dp = torch.nn.Dropout(p=0.5)\n",
        "    self.relu = torch.nn.ReLU()\n",
        "\n",
        "\n",
        "  def forward(self, src):\n",
        "    src = src.unsqueeze(1)\n",
        "\n",
        "    src = self.relu(self.bn1(self.conv1(src))) # [batch_size, filters, height, width]\n",
        "    src = self.relu(self.bn2(self.conv2(src))) # [batch_size, filters, height, width]\n",
        "    src = self.relu(self.bn3(self.conv3(src))) # [batch_size, filters, height, width]\n",
        "    src = src.permute(0, 2, 1, 3)\n",
        "\n",
        "    src = src.reshape(src.shape[0], src.shape[1], src.shape[2] * src.shape[3]) # [batch_size, height, filters * width]\n",
        "    rnn_out, (ht, ct) = self.lstm(src) # [batch_size, height, rnn_units * 2]\n",
        "\n",
        "    fc_out = self.fc1(rnn_out) # [batch_size, height, rnn_units * 2]\n",
        "    fc_out = self.relu(fc_out)\n",
        "    fc_out = self.dp(fc_out)\n",
        "    out = self.fc2(fc_out) # [batch_size, height, output_dim]\n",
        "\n",
        "    out = out.permute(1, 0, 2) # [height, batch_size, output_dim]\n",
        "\n",
        "    out = torch.nn.functional.log_softmax(out, dim=2) # [batch_size, height, output_dim]\n",
        "\n",
        "    return out"
      ],
      "metadata": {
        "id": "LWaMtKdQG24g"
      },
      "execution_count": null,
      "outputs": []
    },
    {
      "cell_type": "code",
      "source": [
        "model = Model(\n",
        "    rnn_layers=5,\n",
        "    rnn_units=768,\n",
        "    output_dim=len(vocab)\n",
        ")\n",
        "\n",
        "for param in model.parameters():\n",
        "  if param.dim() > 1:\n",
        "    torch.nn.init.xavier_uniform_(param)\n",
        "\n",
        "model = model.to(device)"
      ],
      "metadata": {
        "id": "UP1_Dlb_Lrau"
      },
      "execution_count": null,
      "outputs": []
    },
    {
      "cell_type": "code",
      "source": [
        "criterion = torch.nn.CTCLoss()\n",
        "optimizer = torch.optim.AdamW(model.parameters(), lr=1e-4)"
      ],
      "metadata": {
        "id": "V0TPdsxaTjLw"
      },
      "execution_count": null,
      "outputs": []
    },
    {
      "cell_type": "code",
      "source": [
        "def calculate_loss(y_pred, y_true):\n",
        "\n",
        "  T, N, C = y_pred.size() # sequence_length, batch_size, n_classes\n",
        "\n",
        "  input_len = torch.full(size=(N, ), fill_value=T, dtype=torch.long)\n",
        "  target_len = torch.sum(y_true !=0, dim=1, dtype=torch.long)\n",
        "\n",
        "  loss = criterion(y_pred, y_true, input_len, target_len)\n",
        "\n",
        "  return loss"
      ],
      "metadata": {
        "id": "ShBnQzquTuAn"
      },
      "execution_count": null,
      "outputs": []
    },
    {
      "cell_type": "code",
      "source": [
        "from tqdm import tqdm\n",
        "\n",
        "def train(loader):\n",
        "\n",
        "  model.train()\n",
        "  total_loss = 0\n",
        "\n",
        "  for batch in tqdm(loader, desc=\"Training\"):\n",
        "    optimizer.zero_grad()\n",
        "\n",
        "    src, tgt = batch[0].to(device), batch[1].to(device)\n",
        "\n",
        "    outputs = model(src)\n",
        "\n",
        "    loss = calculate_loss(outputs, tgt)\n",
        "    total_loss += loss.item()\n",
        "\n",
        "    loss.backward()\n",
        "    optimizer.step()\n",
        "\n",
        "  return total_loss / len(loader)\n",
        "\n",
        "\n",
        "def evaluate(loader):\n",
        "\n",
        "  model.eval()\n",
        "  total_loss = 0\n",
        "\n",
        "  with torch.no_grad():\n",
        "      for batch in tqdm(loader, desc=\"Evaluation\"):\n",
        "\n",
        "        src, tgt = batch[0].to(device), batch[1].to(device)\n",
        "\n",
        "        outputs = model(src)\n",
        "\n",
        "        loss = calculate_loss(outputs, tgt)\n",
        "        total_loss += loss.item()\n",
        "\n",
        "      return total_loss / len(loader)"
      ],
      "metadata": {
        "id": "5Zyrb0mRVmUa"
      },
      "execution_count": null,
      "outputs": []
    },
    {
      "cell_type": "code",
      "source": [
        "# Указание ранней остановки обучения\n",
        "class EarlyStopping():\n",
        "  def __init__(self, patience, min_delta, start_on_epoch):\n",
        "\n",
        "    self.patience = patience\n",
        "    self.min_delta = min_delta\n",
        "    self.counter = 0\n",
        "    self.min_validation_loss = float(\"inf\")\n",
        "    self.start_on_epoch = start_on_epoch\n",
        "\n",
        "  def early_stop(self, validation_loss, epoch):\n",
        "\n",
        "    if epoch >= self.start_on_epoch:\n",
        "\n",
        "      if validation_loss < self.min_validation_loss:\n",
        "        self.min_validation_loss = validation_loss\n",
        "        self.counter = 0\n",
        "\n",
        "      elif validation_loss > (self.min_validation_loss + self.min_delta):\n",
        "        self.counter += 1\n",
        "        if self.counter >= self.patience:\n",
        "          return True\n",
        "\n",
        "      return False\n",
        "\n",
        "early_stopping = EarlyStopping(patience=2, min_delta=0, start_on_epoch=5)"
      ],
      "metadata": {
        "id": "ZHjWzJAmKbn2"
      },
      "execution_count": null,
      "outputs": []
    },
    {
      "cell_type": "code",
      "source": [
        "epochs = 50\n",
        "\n",
        "history = {\n",
        "    \"loss\": [torch.inf],\n",
        "    \"val_loss\": [torch.inf]\n",
        "}\n",
        "\n",
        "for epoch in range(epochs):\n",
        "  loss = train(train_loader)\n",
        "  val_loss = evaluate(valid_loader)\n",
        "\n",
        "  history[\"loss\"].append(loss)\n",
        "  history[\"val_loss\"].append(val_loss)\n",
        "\n",
        "  # Save checkpoint\n",
        "  if history[\"val_loss\"][-1] < history[\"val_loss\"][-2]:\n",
        "    torch.save(model, f\"/content/LibriSpeech_100_{val_loss:.3f}.pth\")\n",
        "    print(f\"Model with loss {val_loss:.3f} saved\")\n",
        "\n",
        "  print(f\"epoch: {epoch + 1} | loss: {loss:.3f} | val_loss: {val_loss:.3f}\" + \"\\n\")\n",
        "  print(\"*\" * 60 + \"\\n\")\n",
        "\n",
        "  # Early Stopping\n",
        "  if early_stopping.early_stop(val_loss, epoch + 1):\n",
        "    print(\"Сработал Early Stopping\")\n",
        "    break\n",
        "\n",
        "# Сохранение параметров оптимизатора\n",
        "torch.save(optimizer.state_dict(), \"/content/LibriSpeech_100_optimizer.pth\")"
      ],
      "metadata": {
        "id": "hVCCH_8MZZPO",
        "colab": {
          "base_uri": "https://localhost:8080/"
        },
        "outputId": "60c76da0-850f-41d8-afd5-374e0a6889ec"
      },
      "execution_count": null,
      "outputs": [
        {
          "metadata": {
            "tags": null
          },
          "name": "stderr",
          "output_type": "stream",
          "text": [
            "Training: 100%|██████████| 428/428 [21:24<00:00,  3.00s/it]\n",
            "Evaluation: 100%|██████████| 237/237 [02:22<00:00,  1.66it/s]\n"
          ]
        },
        {
          "metadata": {
            "tags": null
          },
          "name": "stdout",
          "output_type": "stream",
          "text": [
            "Model with loss 2.944 saved\n",
            "epoch: 1 | loss: 3.200 | val_loss: 2.944\n",
            "\n",
            "************************************************************\n",
            "\n"
          ]
        },
        {
          "metadata": {
            "tags": null
          },
          "name": "stderr",
          "output_type": "stream",
          "text": [
            "Training: 100%|██████████| 428/428 [21:35<00:00,  3.03s/it]\n",
            "Evaluation: 100%|██████████| 237/237 [02:27<00:00,  1.61it/s]\n"
          ]
        },
        {
          "metadata": {
            "tags": null
          },
          "name": "stdout",
          "output_type": "stream",
          "text": [
            "Model with loss 2.852 saved\n",
            "epoch: 2 | loss: 2.856 | val_loss: 2.852\n",
            "\n",
            "************************************************************\n",
            "\n"
          ]
        },
        {
          "metadata": {
            "tags": null
          },
          "name": "stderr",
          "output_type": "stream",
          "text": [
            "Training: 100%|██████████| 428/428 [21:45<00:00,  3.05s/it]\n",
            "Evaluation: 100%|██████████| 237/237 [02:23<00:00,  1.65it/s]\n"
          ]
        },
        {
          "metadata": {
            "tags": null
          },
          "name": "stdout",
          "output_type": "stream",
          "text": [
            "Model with loss 2.006 saved\n",
            "epoch: 3 | loss: 2.525 | val_loss: 2.006\n",
            "\n",
            "************************************************************\n",
            "\n"
          ]
        },
        {
          "metadata": {
            "tags": null
          },
          "name": "stderr",
          "output_type": "stream",
          "text": [
            "Training: 100%|██████████| 428/428 [21:30<00:00,  3.02s/it]\n",
            "Evaluation: 100%|██████████| 237/237 [02:22<00:00,  1.66it/s]\n"
          ]
        },
        {
          "metadata": {
            "tags": null
          },
          "name": "stdout",
          "output_type": "stream",
          "text": [
            "Model with loss 1.449 saved\n",
            "epoch: 4 | loss: 1.734 | val_loss: 1.449\n",
            "\n",
            "************************************************************\n",
            "\n"
          ]
        },
        {
          "metadata": {
            "tags": null
          },
          "name": "stderr",
          "output_type": "stream",
          "text": [
            "Training: 100%|██████████| 428/428 [21:39<00:00,  3.04s/it]\n",
            "Evaluation: 100%|██████████| 237/237 [02:23<00:00,  1.65it/s]\n"
          ]
        },
        {
          "metadata": {
            "tags": null
          },
          "name": "stdout",
          "output_type": "stream",
          "text": [
            "Model with loss 1.204 saved\n",
            "epoch: 5 | loss: 1.363 | val_loss: 1.204\n",
            "\n",
            "************************************************************\n",
            "\n"
          ]
        },
        {
          "metadata": {
            "tags": null
          },
          "name": "stderr",
          "output_type": "stream",
          "text": [
            "Training: 100%|██████████| 428/428 [21:30<00:00,  3.02s/it]\n",
            "Evaluation: 100%|██████████| 237/237 [02:23<00:00,  1.65it/s]\n"
          ]
        },
        {
          "metadata": {
            "tags": null
          },
          "name": "stdout",
          "output_type": "stream",
          "text": [
            "Model with loss 1.027 saved\n",
            "epoch: 6 | loss: 1.142 | val_loss: 1.027\n",
            "\n",
            "************************************************************\n",
            "\n"
          ]
        },
        {
          "metadata": {
            "tags": null
          },
          "name": "stderr",
          "output_type": "stream",
          "text": [
            "Training: 100%|██████████| 428/428 [21:30<00:00,  3.02s/it]\n",
            "Evaluation: 100%|██████████| 237/237 [02:23<00:00,  1.65it/s]\n"
          ]
        },
        {
          "metadata": {
            "tags": null
          },
          "name": "stdout",
          "output_type": "stream",
          "text": [
            "Model with loss 0.914 saved\n",
            "epoch: 7 | loss: 0.991 | val_loss: 0.914\n",
            "\n",
            "************************************************************\n",
            "\n"
          ]
        },
        {
          "metadata": {
            "tags": null
          },
          "name": "stderr",
          "output_type": "stream",
          "text": [
            "Training: 100%|██████████| 428/428 [21:29<00:00,  3.01s/it]\n",
            "Evaluation: 100%|██████████| 237/237 [02:24<00:00,  1.64it/s]\n"
          ]
        },
        {
          "metadata": {
            "tags": null
          },
          "name": "stdout",
          "output_type": "stream",
          "text": [
            "Model with loss 0.834 saved\n",
            "epoch: 8 | loss: 0.877 | val_loss: 0.834\n",
            "\n",
            "************************************************************\n",
            "\n"
          ]
        },
        {
          "metadata": {
            "tags": null
          },
          "name": "stderr",
          "output_type": "stream",
          "text": [
            "Training: 100%|██████████| 428/428 [21:31<00:00,  3.02s/it]\n",
            "Evaluation: 100%|██████████| 237/237 [02:24<00:00,  1.64it/s]\n"
          ]
        },
        {
          "metadata": {
            "tags": null
          },
          "name": "stdout",
          "output_type": "stream",
          "text": [
            "Model with loss 0.831 saved\n",
            "epoch: 9 | loss: 0.788 | val_loss: 0.831\n",
            "\n",
            "************************************************************\n",
            "\n"
          ]
        },
        {
          "metadata": {
            "tags": null
          },
          "name": "stderr",
          "output_type": "stream",
          "text": [
            "Training: 100%|██████████| 428/428 [21:32<00:00,  3.02s/it]\n",
            "Evaluation: 100%|██████████| 237/237 [02:24<00:00,  1.64it/s]\n"
          ]
        },
        {
          "metadata": {
            "tags": null
          },
          "name": "stdout",
          "output_type": "stream",
          "text": [
            "Model with loss 0.741 saved\n",
            "epoch: 10 | loss: 0.716 | val_loss: 0.741\n",
            "\n",
            "************************************************************\n",
            "\n"
          ]
        },
        {
          "metadata": {
            "tags": null
          },
          "name": "stderr",
          "output_type": "stream",
          "text": [
            "Training: 100%|██████████| 428/428 [21:38<00:00,  3.03s/it]\n",
            "Evaluation: 100%|██████████| 237/237 [02:24<00:00,  1.65it/s]\n"
          ]
        },
        {
          "metadata": {
            "tags": null
          },
          "name": "stdout",
          "output_type": "stream",
          "text": [
            "Model with loss 0.691 saved\n",
            "epoch: 11 | loss: 0.648 | val_loss: 0.691\n",
            "\n",
            "************************************************************\n",
            "\n"
          ]
        },
        {
          "metadata": {
            "tags": null
          },
          "name": "stderr",
          "output_type": "stream",
          "text": [
            "Training: 100%|██████████| 428/428 [21:25<00:00,  3.00s/it]\n",
            "Evaluation: 100%|██████████| 237/237 [02:24<00:00,  1.64it/s]\n"
          ]
        },
        {
          "metadata": {
            "tags": null
          },
          "name": "stdout",
          "output_type": "stream",
          "text": [
            "Model with loss 0.666 saved\n",
            "epoch: 12 | loss: 0.594 | val_loss: 0.666\n",
            "\n",
            "************************************************************\n",
            "\n"
          ]
        },
        {
          "metadata": {
            "tags": null
          },
          "name": "stderr",
          "output_type": "stream",
          "text": [
            "Training: 100%|██████████| 428/428 [21:30<00:00,  3.02s/it]\n",
            "Evaluation: 100%|██████████| 237/237 [02:23<00:00,  1.65it/s]\n"
          ]
        },
        {
          "metadata": {
            "tags": null
          },
          "name": "stdout",
          "output_type": "stream",
          "text": [
            "Model with loss 0.640 saved\n",
            "epoch: 13 | loss: 0.549 | val_loss: 0.640\n",
            "\n",
            "************************************************************\n",
            "\n"
          ]
        },
        {
          "metadata": {
            "tags": null
          },
          "name": "stderr",
          "output_type": "stream",
          "text": [
            "Training: 100%|██████████| 428/428 [21:34<00:00,  3.02s/it]\n",
            "Evaluation: 100%|██████████| 237/237 [02:23<00:00,  1.65it/s]\n"
          ]
        },
        {
          "metadata": {
            "tags": null
          },
          "name": "stdout",
          "output_type": "stream",
          "text": [
            "Model with loss 0.636 saved\n",
            "epoch: 14 | loss: 0.507 | val_loss: 0.636\n",
            "\n",
            "************************************************************\n",
            "\n"
          ]
        },
        {
          "metadata": {
            "tags": null
          },
          "name": "stderr",
          "output_type": "stream",
          "text": [
            "Training: 100%|██████████| 428/428 [21:28<00:00,  3.01s/it]\n",
            "Evaluation: 100%|██████████| 237/237 [02:23<00:00,  1.65it/s]\n"
          ]
        },
        {
          "metadata": {
            "tags": null
          },
          "name": "stdout",
          "output_type": "stream",
          "text": [
            "Model with loss 0.597 saved\n",
            "epoch: 15 | loss: 0.469 | val_loss: 0.597\n",
            "\n",
            "************************************************************\n",
            "\n"
          ]
        },
        {
          "metadata": {
            "tags": null
          },
          "name": "stderr",
          "output_type": "stream",
          "text": [
            "Training: 100%|██████████| 428/428 [21:31<00:00,  3.02s/it]\n",
            "Evaluation: 100%|██████████| 237/237 [02:23<00:00,  1.66it/s]\n"
          ]
        },
        {
          "metadata": {
            "tags": null
          },
          "name": "stdout",
          "output_type": "stream",
          "text": [
            "Model with loss 0.587 saved\n",
            "epoch: 16 | loss: 0.434 | val_loss: 0.587\n",
            "\n",
            "************************************************************\n",
            "\n"
          ]
        },
        {
          "metadata": {
            "tags": null
          },
          "name": "stderr",
          "output_type": "stream",
          "text": [
            "Training: 100%|██████████| 428/428 [21:30<00:00,  3.01s/it]\n",
            "Evaluation: 100%|██████████| 237/237 [02:23<00:00,  1.65it/s]\n"
          ]
        },
        {
          "metadata": {
            "tags": null
          },
          "name": "stdout",
          "output_type": "stream",
          "text": [
            "epoch: 17 | loss: 0.408 | val_loss: 0.589\n",
            "\n",
            "************************************************************\n",
            "\n"
          ]
        },
        {
          "output_type": "stream",
          "name": "stderr",
          "text": [
            "Training: 100%|██████████| 428/428 [21:24<00:00,  3.00s/it]\n",
            "Evaluation: 100%|██████████| 237/237 [02:23<00:00,  1.65it/s]\n"
          ]
        },
        {
          "output_type": "stream",
          "name": "stdout",
          "text": [
            "Model with loss 0.567 saved\n",
            "epoch: 18 | loss: 0.380 | val_loss: 0.567\n",
            "\n",
            "************************************************************\n",
            "\n"
          ]
        },
        {
          "output_type": "stream",
          "name": "stderr",
          "text": [
            "Training: 100%|██████████| 428/428 [21:36<00:00,  3.03s/it]\n",
            "Evaluation: 100%|██████████| 237/237 [02:24<00:00,  1.65it/s]\n"
          ]
        },
        {
          "output_type": "stream",
          "name": "stdout",
          "text": [
            "epoch: 19 | loss: 0.356 | val_loss: 0.607\n",
            "\n",
            "************************************************************\n",
            "\n"
          ]
        },
        {
          "output_type": "stream",
          "name": "stderr",
          "text": [
            "Training: 100%|██████████| 428/428 [21:29<00:00,  3.01s/it]\n",
            "Evaluation: 100%|██████████| 237/237 [02:23<00:00,  1.65it/s]\n"
          ]
        },
        {
          "output_type": "stream",
          "name": "stdout",
          "text": [
            "Model with loss 0.540 saved\n",
            "epoch: 20 | loss: 0.333 | val_loss: 0.540\n",
            "\n",
            "************************************************************\n",
            "\n"
          ]
        },
        {
          "output_type": "stream",
          "name": "stderr",
          "text": [
            "Training: 100%|██████████| 428/428 [21:27<00:00,  3.01s/it]\n",
            "Evaluation: 100%|██████████| 237/237 [02:24<00:00,  1.64it/s]\n"
          ]
        },
        {
          "output_type": "stream",
          "name": "stdout",
          "text": [
            "epoch: 21 | loss: 0.314 | val_loss: 0.555\n",
            "\n",
            "************************************************************\n",
            "\n"
          ]
        },
        {
          "output_type": "stream",
          "name": "stderr",
          "text": [
            "Training: 100%|██████████| 428/428 [21:28<00:00,  3.01s/it]\n",
            "Evaluation: 100%|██████████| 237/237 [02:24<00:00,  1.65it/s]"
          ]
        },
        {
          "output_type": "stream",
          "name": "stdout",
          "text": [
            "epoch: 22 | loss: 0.294 | val_loss: 0.565\n",
            "\n",
            "************************************************************\n",
            "\n",
            "Сработал Early Stopping\n"
          ]
        },
        {
          "output_type": "stream",
          "name": "stderr",
          "text": [
            "\n"
          ]
        }
      ]
    },
    {
      "cell_type": "code",
      "source": [
        "import matplotlib.pyplot as plt\n",
        "\n",
        "plt.plot(history[\"loss\"][1:], label=\"train\")\n",
        "plt.plot(history[\"val_loss\"][1:], label=\"validation\")\n",
        "plt.xlabel(\"Epoch\")\n",
        "plt.ylabel(\"CTC Loss\")\n",
        "\n",
        "plt.legend()\n",
        "plt.show()"
      ],
      "metadata": {
        "colab": {
          "base_uri": "https://localhost:8080/",
          "height": 449
        },
        "id": "toWByei8izis",
        "outputId": "7a2fcb82-9fca-4162-ce29-697802a5de59"
      },
      "execution_count": null,
      "outputs": [
        {
          "output_type": "display_data",
          "data": {
            "text/plain": [
              "<Figure size 640x480 with 1 Axes>"
            ],
            "image/png": "[encoded data removed]"
          },
          "metadata": {}
        }
      ]
    },
    {
      "cell_type": "code",
      "source": [
        "class CTCGreedyDecoder(torch.nn.Module):\n",
        "  def __init__(self, labels, blank=0):\n",
        "    super(CTCGreedyDecoder, self).__init__()\n",
        "\n",
        "    self.labels = labels\n",
        "    self.blank = blank\n",
        "\n",
        "  def forward(self, outputs):\n",
        "\n",
        "    indices = torch.argmax(outputs, dim=-1)\n",
        "    indices = torch.unique_consecutive(indices, dim=0)\n",
        "    indices = [token for token in indices if token != self.blank]\n",
        "    joined = \"\".join([self.labels[idx] for idx in indices])\n",
        "    splt = joined.strip().split()\n",
        "\n",
        "    return \" \".join(splt)\n",
        "\n",
        "greedy_decoder = CTCGreedyDecoder(labels=vocab.get_itos())"
      ],
      "metadata": {
        "id": "lG3_7l8C-ioL"
      },
      "execution_count": null,
      "outputs": []
    },
    {
      "cell_type": "code",
      "source": [
        "# Рассчет метрик WER & CER\n",
        "!pip install jiwer -q\n",
        "\n",
        "from jiwer import wer, cer\n",
        "\n",
        "model.eval()\n",
        "\n",
        "wer_scores = []\n",
        "cer_scores = []\n",
        "\n",
        "with torch.no_grad():\n",
        "\n",
        "  for batch in tqdm(valid_loader, desc=\"Calculating WER & CER scores\"):\n",
        "    val_src, val_tgt = batch[0].to(device), batch[1].to(device)\n",
        "\n",
        "    for idx in range(val_src.shape[0]):\n",
        "\n",
        "      y_pred = model(val_src[idx].unsqueeze(0))\n",
        "\n",
        "      y_pred = greedy_decoder(y_pred)\n",
        "      y_true = \"\".join([vocab.get_itos()[i] for i in val_tgt[idx]])\n",
        "\n",
        "      wer_scores.append(wer(y_pred, y_true))\n",
        "      cer_scores.append(cer(y_pred, y_true))\n",
        "\n",
        "wer_score = (sum(wer_scores) / len(wer_scores))\n",
        "cer_score = (sum(cer_scores) / len(cer_scores))\n",
        "\n",
        "print(f\"\\n\\n wer score: {wer_score:.2f}, cer score: {cer_score:.2f}\")"
      ],
      "metadata": {
        "colab": {
          "base_uri": "https://localhost:8080/"
        },
        "id": "ul-2lvgAluLB",
        "outputId": "6b3ea463-aa1c-4e6d-95d5-dccd2973ef00"
      },
      "execution_count": null,
      "outputs": [
        {
          "output_type": "stream",
          "name": "stdout",
          "text": [
            "\u001b[?25l     \u001b[90m━━━━━━━━━━━━━━━━━━━━━━━━━━━━━━━━━━━━━━━━\u001b[0m \u001b[32m0.0/3.4 MB\u001b[0m \u001b[31m?\u001b[0m eta \u001b[36m-:--:--\u001b[0m\r\u001b[2K     \u001b[91m━━━━━━━━━━━━━━━━━━━━\u001b[0m\u001b[91m╸\u001b[0m\u001b[90m━━━━━━━━━━━━━━━━━━━\u001b[0m \u001b[32m1.8/3.4 MB\u001b[0m \u001b[31m52.5 MB/s\u001b[0m eta \u001b[36m0:00:01\u001b[0m\r\u001b[2K     \u001b[90m━━━━━━━━━━━━━━━━━━━━━━━━━━━━━━━━━━━━━━━━\u001b[0m \u001b[32m3.4/3.4 MB\u001b[0m \u001b[31m52.4 MB/s\u001b[0m eta \u001b[36m0:00:00\u001b[0m\n",
            "\u001b[?25h"
          ]
        },
        {
          "output_type": "stream",
          "name": "stderr",
          "text": [
            "\rCalculating WER & CER scores:   0%|          | 0/237 [00:00<?, ?it/s]/usr/local/lib/python3.10/dist-packages/torch/nn/modules/conv.py:456: UserWarning: Plan failed with a cudnnException: CUDNN_BACKEND_EXECUTION_PLAN_DESCRIPTOR: cudnnFinalize Descriptor Failed cudnn_status: CUDNN_STATUS_NOT_SUPPORTED (Triggered internally at ../aten/src/ATen/native/cudnn/Conv_v8.cpp:919.)\n",
            "  return F.conv2d(input, weight, bias, self.stride,\n",
            "Calculating WER & CER scores: 100%|██████████| 237/237 [12:50<00:00,  3.25s/it]"
          ]
        },
        {
          "output_type": "stream",
          "name": "stdout",
          "text": [
            "\n",
            "\n",
            " wer score: 0.36, cer score: 0.15\n"
          ]
        },
        {
          "output_type": "stream",
          "name": "stderr",
          "text": [
            "\n"
          ]
        }
      ]
    },
    {
      "cell_type": "code",
      "source": [
        "# Показ прогнозов\n",
        "def show_result(idx):\n",
        "  y_pred = model(val_src[idx].unsqueeze(0))\n",
        "  y_pred = greedy_decoder(y_pred)\n",
        "  y_true = \"\".join([vocab.get_itos()[i] for i in val_tgt[idx]])\n",
        "\n",
        "  print(f\"pred: {y_pred}\")\n",
        "  print(f\"true: {y_true}\")\n",
        "\n",
        "samples = torch.randint(1, 16, (3, ))\n",
        "\n",
        "for sample in samples:\n",
        "  show_result(sample)\n",
        "  print(\"*\" * 100)"
      ],
      "metadata": {
        "colab": {
          "base_uri": "https://localhost:8080/"
        },
        "id": "Rl3X9h-kE8LD",
        "outputId": "50e5a24f-55c9-42e0-f54a-f86d31f8119b"
      },
      "execution_count": null,
      "outputs": [
        {
          "output_type": "stream",
          "name": "stdout",
          "text": [
            "pred: that he was chose wat several other was wast promcing peoples the joine the musical society which was to take part in the great festibl and london an extralye here was not only honour for the vi\n",
            "true: that he was chosen with several other of his most promising pupils to join the musical society which was to take part in the great festival in london the next july here was not only honour for the violinist but happi\n",
            "****************************************************************************************************\n",
            "pred: as americans their fally is pecularly scandalas because if the principals they now o pold our right it meas that i would have been better that a mergan should never have achieve their independent and better that\n",
            "true: as americans their folly is peculiarly scandalous because if the principles they now uphold are right it means that it would have been better that americans should never have achieved their independence and better th\n",
            "****************************************************************************************************\n",
            "pred: mat he was chosen a several other was was promcing poples to joine he musical society with was to take part in the great festof wont lenta lit extraloy here was not only honor for the vialinisben hapinss fo t\n",
            "true: that he was chosen with several other of his most promising pupils to join the musical society which was to take part in the great festival in london the next july here was not only honour for the violinist but happi\n",
            "****************************************************************************************************\n"
          ]
        }
      ]
    }
  ]
}